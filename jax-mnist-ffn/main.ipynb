{
 "cells": [
  {
   "cell_type": "code",
   "execution_count": 1,
   "id": "dc4a1967",
   "metadata": {},
   "outputs": [],
   "source": [
    "import jax.numpy as jnp\n",
    "import struct\n",
    "\n",
    "\n",
    "def read_label(file):\n",
    "    with open(file, \"rb\") as f:\n",
    "        struct.unpack(\">II\", f.read(8))\n",
    "        return jnp.frombuffer(f.read(), dtype=jnp.uint8)\n",
    "\n",
    "def read_image(file):\n",
    "    with open(file, \"rb\") as f:\n",
    "        struct.unpack(\">IIII\", f.read(16))\n",
    "        return jnp.frombuffer(f.read(), dtype=jnp.uint8)\n",
    "\n",
    "X_train = read_image(\"./train-images.idx3-ubyte\")\n",
    "Y_train = read_label(\"./train-labels.idx1-ubyte\")\n",
    "X_test = read_image(\"./t10k-images.idx3-ubyte\")\n",
    "Y_test = read_label(\"./t10k-labels.idx1-ubyte\")\n",
    "\n",
    "X_train = X_train.reshape(-1, 28 * 28)\n",
    "X_test = X_test.reshape(-1, 28 * 28)"
   ]
  },
  {
   "cell_type": "code",
   "execution_count": 2,
   "id": "82db3722",
   "metadata": {},
   "outputs": [
    {
     "name": "stdout",
     "output_type": "stream",
     "text": [
      "Epoch 1/10000, Loss: 19.733854293823242, Accuracy: 12.50%\n",
      "Epoch 501/10000, Loss: 0.16958101093769073, Accuracy: 75.00%\n",
      "Epoch 1001/10000, Loss: 0.22560326755046844, Accuracy: 71.88%\n",
      "Epoch 1501/10000, Loss: 0.062071651220321655, Accuracy: 87.50%\n",
      "Epoch 2001/10000, Loss: 0.15275520086288452, Accuracy: 75.00%\n",
      "Epoch 2501/10000, Loss: 0.08044341951608658, Accuracy: 81.25%\n",
      "Epoch 3001/10000, Loss: 0.09110000729560852, Accuracy: 78.12%\n",
      "Epoch 3501/10000, Loss: 0.054757531732320786, Accuracy: 81.25%\n",
      "Epoch 4001/10000, Loss: 0.08000491559505463, Accuracy: 84.38%\n",
      "Epoch 4501/10000, Loss: 0.053907234221696854, Accuracy: 87.50%\n",
      "Epoch 5001/10000, Loss: 0.04168374463915825, Accuracy: 87.50%\n",
      "Epoch 5501/10000, Loss: 0.04633262753486633, Accuracy: 90.62%\n",
      "Epoch 6001/10000, Loss: 0.027250289916992188, Accuracy: 90.62%\n",
      "Epoch 6501/10000, Loss: 0.05816629156470299, Accuracy: 93.75%\n",
      "Epoch 7001/10000, Loss: 0.059656381607055664, Accuracy: 90.62%\n",
      "Epoch 7501/10000, Loss: 0.12991999089717865, Accuracy: 71.88%\n",
      "Epoch 8001/10000, Loss: 0.015680178999900818, Accuracy: 96.88%\n",
      "Epoch 8501/10000, Loss: 0.013045132160186768, Accuracy: 93.75%\n",
      "Epoch 9001/10000, Loss: 0.035236578434705734, Accuracy: 90.62%\n",
      "Epoch 9501/10000, Loss: 0.005522545427083969, Accuracy: 100.00%\n",
      "Epoch 10001/10000, Loss: 0.017697911709547043, Accuracy: 93.75%\n"
     ]
    }
   ],
   "source": [
    "import jax\n",
    "import matplotlib.pyplot as plt\n",
    "\n",
    "key = jax.random.key(0)\n",
    "key, W1_key, b1_key, W2_key, b2_key = jax.random.split(key, 5)\n",
    "\n",
    "params = {\n",
    "    \"W1\": jax.random.normal(W1_key, (28 * 28, 128)) * 0.1,\n",
    "    \"b1\": jax.random.normal(b1_key, (128,)) * 0.1,\n",
    "    \"W2\": jax.random.normal(W2_key, (128, 10)) * 0.1,\n",
    "    \"b2\": jax.random.normal(b2_key, (10,)) * 0.1\n",
    "}\n",
    "\n",
    "def eval(params, x, y):\n",
    "    W1, W2, b1, b2 = params[\"W1\"], params[\"W2\"], params[\"b1\"], params[\"b2\"]\n",
    "    logits = jax.nn.relu(jnp.dot(x, W1) + b1)\n",
    "    logits = jnp.dot(logits, W2) + b2\n",
    "\n",
    "    log_probs = jax.nn.log_softmax(logits)\n",
    "    loss_val = -jnp.mean(jax.nn.one_hot(y, 10) * log_probs)\n",
    "\n",
    "    preds = jnp.argmax(logits, axis=-1)\n",
    "    accuracy = jnp.mean(preds == y)\n",
    "    return loss_val, accuracy\n",
    "\n",
    "\n",
    "grad_fn = jax.grad(eval, has_aux=True)\n",
    "\n",
    "@jax.jit\n",
    "def step(params, x, y, lr=0.01):\n",
    "    loss_val, _ = eval(params, x, y)\n",
    "    grads, acc = grad_fn(params, x, y)\n",
    "\n",
    "    new_params = {\n",
    "        \"W1\": params[\"W1\"] - lr * grads[\"W1\"],\n",
    "        \"b1\": params[\"b1\"] - lr * grads[\"b1\"],\n",
    "        \"W2\": params[\"W2\"] - lr * grads[\"W2\"],\n",
    "        \"b2\": params[\"b2\"] - lr * grads[\"b2\"]\n",
    "    }\n",
    "\n",
    "    return new_params, loss_val, acc\n",
    "\n",
    "bs = 32\n",
    "nepochs = 10000\n",
    "losses = []\n",
    "accs = []\n",
    "for i in range(nepochs+1):\n",
    "    key, subkey = jax.random.split(key)\n",
    "    samp = jax.random.randint(subkey, (bs,), 0, X_train.shape[0])\n",
    "    X, Y = X_train[samp], Y_train[samp]\n",
    "    params, curr_loss, acc = step(params, X, Y)\n",
    "    losses.append(curr_loss)\n",
    "    accs.append(acc)\n",
    "    if i % 500 == 0: print(f\"Epoch {i+1}/{nepochs}, Loss: {curr_loss}, Accuracy: {acc*100:.2f}%\")\n"
   ]
  },
  {
   "cell_type": "code",
   "execution_count": 3,
   "id": "0b055b32",
   "metadata": {},
   "outputs": [
    {
     "name": "stdout",
     "output_type": "stream",
     "text": [
      "0.89449996\n"
     ]
    }
   ],
   "source": [
    "evals = eval(params, X_test, Y_test)\n",
    "print(evals[1])"
   ]
  },
  {
   "cell_type": "code",
   "execution_count": 4,
   "id": "8be5dded",
   "metadata": {},
   "outputs": [
    {
     "data": {
      "text/plain": [
       "[<matplotlib.lines.Line2D at 0x77d54c82b2e0>]"
      ]
     },
     "execution_count": 4,
     "metadata": {},
     "output_type": "execute_result"
    },
    {
     "data": {
      "image/png": "[encoded data removed]",
      "text/plain": [
       "<Figure size 640x480 with 1 Axes>"
      ]
     },
     "metadata": {},
     "output_type": "display_data"
    }
   ],
   "source": [
    "plt.ylim(-0.5, 5)\n",
    "plt.plot(losses)\n",
    "plt.plot(accs)"
   ]
  }
 ],
 "metadata": {
  "kernelspec": {
   "display_name": "venv",
   "language": "python",
   "name": "python3"
  },
  "language_info": {
   "codemirror_mode": {
    "name": "ipython",
    "version": 3
   },
   "file_extension": ".py",
   "mimetype": "text/x-python",
   "name": "python",
   "nbconvert_exporter": "python",
   "pygments_lexer": "ipython3",
   "version": "3.10.12"
  }
 },
 "nbformat": 4,
 "nbformat_minor": 5
}
