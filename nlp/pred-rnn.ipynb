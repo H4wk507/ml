{
 "cells": [
  {
   "cell_type": "code",
   "execution_count": 1,
   "id": "6977bcc9",
   "metadata": {},
   "outputs": [
    {
     "data": {
      "text/plain": [
       "4"
      ]
     },
     "execution_count": 1,
     "metadata": {},
     "output_type": "execute_result"
    }
   ],
   "source": [
    "# read words as series of characters\n",
    "# output prediction and hidden state\n",
    "# feed prev hidden state to next step (RNN part)\n",
    "# final predicition is the output (class)\n",
    "\n",
    "2+2"
   ]
  },
  {
   "cell_type": "code",
   "execution_count": 2,
   "id": "e075a179",
   "metadata": {},
   "outputs": [
    {
     "name": "stdout",
     "output_type": "stream",
     "text": [
      "2.7.1+cu126\n",
      "cuda:0\n"
     ]
    }
   ],
   "source": [
    "import torch\n",
    "print(torch.__version__)\n",
    "\n",
    "device = torch.device(\"cuda\" if torch.cuda.is_available() else \"cpu\")\n",
    "torch.set_default_device(device)\n",
    "print(torch.get_default_device())"
   ]
  },
  {
   "cell_type": "code",
   "execution_count": 3,
   "id": "7079370a",
   "metadata": {},
   "outputs": [
    {
     "name": "stdout",
     "output_type": "stream",
     "text": [
      "Skowroński: Skowronski\n"
     ]
    }
   ],
   "source": [
    "import string\n",
    "import unicodedata\n",
    "\n",
    "allowed_chars = string.ascii_letters + \".,;'\" + \"_\"\n",
    "n_letters = len(allowed_chars)\n",
    "\n",
    "def unicode_to_ascii(s: str) -> str:\n",
    "    return ''.join(\n",
    "        c for c in unicodedata.normalize('NFD', s)\n",
    "        if unicodedata.category(c) != 'Mn' and c in allowed_chars\n",
    "    )\n",
    "\n",
    "print(f\"Skowroński: {unicode_to_ascii('Skowroński')}\")"
   ]
  },
  {
   "cell_type": "code",
   "execution_count": 4,
   "id": "c9e7ca13",
   "metadata": {},
   "outputs": [
    {
     "name": "stdout",
     "output_type": "stream",
     "text": [
      "torch.Size([10, 1, 57])\n",
      "tensor([[[0., 0., 0., 0., 0., 0., 0., 0., 0., 0., 0., 0., 0., 0., 0., 0., 0.,\n",
      "          0., 0., 0., 0., 0., 0., 0., 0., 0., 0., 0., 0., 0., 0., 0., 0., 0.,\n",
      "          0., 0., 0., 0., 0., 0., 0., 0., 0., 0., 1., 0., 0., 0., 0., 0., 0.,\n",
      "          0., 0., 0., 0., 0., 0.]],\n",
      "\n",
      "        [[0., 0., 0., 0., 0., 0., 0., 0., 0., 0., 1., 0., 0., 0., 0., 0., 0.,\n",
      "          0., 0., 0., 0., 0., 0., 0., 0., 0., 0., 0., 0., 0., 0., 0., 0., 0.,\n",
      "          0., 0., 0., 0., 0., 0., 0., 0., 0., 0., 0., 0., 0., 0., 0., 0., 0.,\n",
      "          0., 0., 0., 0., 0., 0.]],\n",
      "\n",
      "        [[0., 0., 0., 0., 0., 0., 0., 0., 0., 0., 0., 0., 0., 0., 1., 0., 0.,\n",
      "          0., 0., 0., 0., 0., 0., 0., 0., 0., 0., 0., 0., 0., 0., 0., 0., 0.,\n",
      "          0., 0., 0., 0., 0., 0., 0., 0., 0., 0., 0., 0., 0., 0., 0., 0., 0.,\n",
      "          0., 0., 0., 0., 0., 0.]],\n",
      "\n",
      "        [[0., 0., 0., 0., 0., 0., 0., 0., 0., 0., 0., 0., 0., 0., 0., 0., 0.,\n",
      "          0., 0., 0., 0., 0., 1., 0., 0., 0., 0., 0., 0., 0., 0., 0., 0., 0.,\n",
      "          0., 0., 0., 0., 0., 0., 0., 0., 0., 0., 0., 0., 0., 0., 0., 0., 0.,\n",
      "          0., 0., 0., 0., 0., 0.]],\n",
      "\n",
      "        [[0., 0., 0., 0., 0., 0., 0., 0., 0., 0., 0., 0., 0., 0., 0., 0., 0.,\n",
      "          1., 0., 0., 0., 0., 0., 0., 0., 0., 0., 0., 0., 0., 0., 0., 0., 0.,\n",
      "          0., 0., 0., 0., 0., 0., 0., 0., 0., 0., 0., 0., 0., 0., 0., 0., 0.,\n",
      "          0., 0., 0., 0., 0., 0.]],\n",
      "\n",
      "        [[0., 0., 0., 0., 0., 0., 0., 0., 0., 0., 0., 0., 0., 0., 1., 0., 0.,\n",
      "          0., 0., 0., 0., 0., 0., 0., 0., 0., 0., 0., 0., 0., 0., 0., 0., 0.,\n",
      "          0., 0., 0., 0., 0., 0., 0., 0., 0., 0., 0., 0., 0., 0., 0., 0., 0.,\n",
      "          0., 0., 0., 0., 0., 0.]],\n",
      "\n",
      "        [[0., 0., 0., 0., 0., 0., 0., 0., 0., 0., 0., 0., 0., 0., 0., 0., 0.,\n",
      "          0., 0., 0., 0., 0., 0., 0., 0., 0., 0., 0., 0., 0., 0., 0., 0., 0.,\n",
      "          0., 0., 0., 0., 0., 0., 0., 0., 0., 0., 0., 0., 0., 0., 0., 0., 0.,\n",
      "          0., 0., 0., 0., 0., 1.]],\n",
      "\n",
      "        [[0., 0., 0., 0., 0., 0., 0., 0., 0., 0., 0., 0., 0., 0., 0., 0., 0.,\n",
      "          0., 1., 0., 0., 0., 0., 0., 0., 0., 0., 0., 0., 0., 0., 0., 0., 0.,\n",
      "          0., 0., 0., 0., 0., 0., 0., 0., 0., 0., 0., 0., 0., 0., 0., 0., 0.,\n",
      "          0., 0., 0., 0., 0., 0.]],\n",
      "\n",
      "        [[0., 0., 0., 0., 0., 0., 0., 0., 0., 0., 1., 0., 0., 0., 0., 0., 0.,\n",
      "          0., 0., 0., 0., 0., 0., 0., 0., 0., 0., 0., 0., 0., 0., 0., 0., 0.,\n",
      "          0., 0., 0., 0., 0., 0., 0., 0., 0., 0., 0., 0., 0., 0., 0., 0., 0.,\n",
      "          0., 0., 0., 0., 0., 0.]],\n",
      "\n",
      "        [[0., 0., 0., 0., 0., 0., 0., 0., 1., 0., 0., 0., 0., 0., 0., 0., 0.,\n",
      "          0., 0., 0., 0., 0., 0., 0., 0., 0., 0., 0., 0., 0., 0., 0., 0., 0.,\n",
      "          0., 0., 0., 0., 0., 0., 0., 0., 0., 0., 0., 0., 0., 0., 0., 0., 0.,\n",
      "          0., 0., 0., 0., 0., 0.]]], device='cuda:0')\n"
     ]
    }
   ],
   "source": [
    "def char_to_idx(c: str) -> int:\n",
    "    if c in allowed_chars:\n",
    "        return allowed_chars.index(c)\n",
    "    else:\n",
    "        return allowed_chars.index('_')\n",
    "\n",
    "def str_to_tensor(s: str) -> torch.Tensor:\n",
    "    t = torch.zeros(len(s), 1, n_letters, dtype=torch.float32)\n",
    "    for i, c in enumerate(s):\n",
    "        t[i][0][char_to_idx(c)] = 1\n",
    "    return t\n",
    "\n",
    "print(str_to_tensor(\"Skowroński\").shape)\n",
    "print(str_to_tensor(\"Skowroński\"))"
   ]
  },
  {
   "cell_type": "code",
   "execution_count": 5,
   "id": "f467fbe0",
   "metadata": {},
   "outputs": [],
   "source": [
    "from torch.utils.data import Dataset\n",
    "import glob\n",
    "import os\n",
    "\n",
    "class NamesDataset(Dataset):\n",
    "    def __init__(self, dir: str):\n",
    "        self.dir = dir\n",
    "        self.data = []\n",
    "        self.data_tensors = []\n",
    "        self.labels = []\n",
    "        self.labels_tensors = []\n",
    "\n",
    "        labels_set = set()\n",
    "\n",
    "        text_files = glob.glob(f\"{self.dir}/*.txt\")\n",
    "        for file in text_files:\n",
    "            label = os.path.splitext(os.path.basename(file))[0]\n",
    "            labels_set.add(label)\n",
    "            with open(file, 'r', encoding='utf-8') as f:\n",
    "                lines = f.read().strip().split('\\n')\n",
    "                for name in lines:\n",
    "                    self.data.append(name)\n",
    "                    self.data_tensors.append(str_to_tensor(name))\n",
    "                    self.labels.append(label)\n",
    "\n",
    "        self.labels_uniq = list(labels_set)\n",
    "        for idx in range(len(self.labels)):\n",
    "            temp_tensor = torch.tensor([self.labels_uniq.index(self.labels[idx])], dtype=torch.long)\n",
    "            self.labels_tensors.append(temp_tensor)\n",
    "\n",
    "    def __len__(self):\n",
    "        return len(self.data)\n",
    "\n",
    "    def __getitem__(self, idx: int):\n",
    "        data_item = self.data[idx]\n",
    "        data_label = self.labels[idx]\n",
    "        data_tensor = self.data_tensors[idx]\n",
    "        label_tensor = self.labels_tensors[idx]\n",
    "        return label_tensor, data_tensor, data_label, data_item\n"
   ]
  },
  {
   "cell_type": "code",
   "execution_count": 6,
   "id": "75b063d5",
   "metadata": {},
   "outputs": [
    {
     "name": "stdout",
     "output_type": "stream",
     "text": [
      "20074\n",
      "(tensor([9], device='cuda:0'), tensor([[[0., 0., 0., 0., 0., 0., 0., 0., 0., 0., 0., 0., 0., 0., 0., 0., 0.,\n",
      "          0., 0., 0., 0., 0., 0., 0., 0., 0., 1., 0., 0., 0., 0., 0., 0., 0.,\n",
      "          0., 0., 0., 0., 0., 0., 0., 0., 0., 0., 0., 0., 0., 0., 0., 0., 0.,\n",
      "          0., 0., 0., 0., 0., 0.]],\n",
      "\n",
      "        [[0., 1., 0., 0., 0., 0., 0., 0., 0., 0., 0., 0., 0., 0., 0., 0., 0.,\n",
      "          0., 0., 0., 0., 0., 0., 0., 0., 0., 0., 0., 0., 0., 0., 0., 0., 0.,\n",
      "          0., 0., 0., 0., 0., 0., 0., 0., 0., 0., 0., 0., 0., 0., 0., 0., 0.,\n",
      "          0., 0., 0., 0., 0., 0.]],\n",
      "\n",
      "        [[0., 0., 0., 0., 0., 0., 0., 0., 0., 0., 0., 0., 0., 0., 0., 0., 0.,\n",
      "          1., 0., 0., 0., 0., 0., 0., 0., 0., 0., 0., 0., 0., 0., 0., 0., 0.,\n",
      "          0., 0., 0., 0., 0., 0., 0., 0., 0., 0., 0., 0., 0., 0., 0., 0., 0.,\n",
      "          0., 0., 0., 0., 0., 0.]],\n",
      "\n",
      "        [[0., 0., 0., 0., 1., 0., 0., 0., 0., 0., 0., 0., 0., 0., 0., 0., 0.,\n",
      "          0., 0., 0., 0., 0., 0., 0., 0., 0., 0., 0., 0., 0., 0., 0., 0., 0.,\n",
      "          0., 0., 0., 0., 0., 0., 0., 0., 0., 0., 0., 0., 0., 0., 0., 0., 0.,\n",
      "          0., 0., 0., 0., 0., 0.]],\n",
      "\n",
      "        [[0., 0., 0., 0., 0., 0., 0., 0., 0., 0., 0., 0., 0., 0., 0., 0., 0.,\n",
      "          0., 0., 0., 1., 0., 0., 0., 0., 0., 0., 0., 0., 0., 0., 0., 0., 0.,\n",
      "          0., 0., 0., 0., 0., 0., 0., 0., 0., 0., 0., 0., 0., 0., 0., 0., 0.,\n",
      "          0., 0., 0., 0., 0., 0.]]], device='cuda:0'), 'Portuguese', 'Abreu')\n"
     ]
    }
   ],
   "source": [
    "dat = NamesDataset(\"data/names\")\n",
    "print(len(dat))\n",
    "print(dat[0])"
   ]
  },
  {
   "cell_type": "code",
   "execution_count": 7,
   "id": "b011faf4",
   "metadata": {},
   "outputs": [
    {
     "name": "stdout",
     "output_type": "stream",
     "text": [
      "train: 17063, test: 3011\n"
     ]
    }
   ],
   "source": [
    "X_train, X_test = torch.utils.data.random_split(dat, [.85, .15], generator=torch.Generator(device=device).manual_seed(42))\n",
    "\n",
    "print(f\"train: {len(X_train)}, test: {len(X_test)}\")"
   ]
  },
  {
   "cell_type": "code",
   "execution_count": 8,
   "id": "447c9497",
   "metadata": {},
   "outputs": [],
   "source": [
    "import torch.nn as nn\n",
    "import torch.nn.functional as F\n",
    "\n",
    "class CharRNN(nn.Module):\n",
    "    def __init__(self, input_size: int, hidden_size: int, output_size: int):\n",
    "        super(CharRNN, self).__init__()\n",
    "\n",
    "        self.lstm = nn.LSTM(input_size, hidden_size)\n",
    "        self.ffn = nn.Linear(hidden_size, output_size)\n",
    "        self.act = nn.LogSoftmax(dim=1)\n",
    "\n",
    "    def forward(self, str_tensor: torch.Tensor):\n",
    "        rnn_out, hidden = self.lstm(str_tensor)\n",
    "        # out = self.ffn(hidden[0])\n",
    "        out = self.ffn(hidden[0][0])\n",
    "        out = self.act(out)\n",
    "\n",
    "        return out\n"
   ]
  },
  {
   "cell_type": "code",
   "execution_count": 9,
   "id": "0978ccbe",
   "metadata": {},
   "outputs": [
    {
     "name": "stdout",
     "output_type": "stream",
     "text": [
      "CharRNN(\n",
      "  (lstm): LSTM(57, 128)\n",
      "  (ffn): Linear(in_features=128, out_features=18, bias=True)\n",
      "  (act): LogSoftmax(dim=1)\n",
      ")\n"
     ]
    }
   ],
   "source": [
    "rnn = CharRNN(n_letters, 128, len(dat.labels_uniq))\n",
    "print(rnn)"
   ]
  },
  {
   "cell_type": "code",
   "execution_count": 10,
   "id": "e049fd7b",
   "metadata": {},
   "outputs": [
    {
     "name": "stdout",
     "output_type": "stream",
     "text": [
      "tensor([[-2.9027, -2.8585, -2.9443, -2.8318, -2.8714, -2.8832, -2.9165, -2.9446,\n",
      "         -2.9355, -2.8745, -2.9067, -2.8740, -2.9238, -2.8631, -2.8127, -2.8470,\n",
      "         -2.9337, -2.9161]], device='cuda:0', grad_fn=<LogSoftmaxBackward0>)\n",
      "Japanese\n"
     ]
    }
   ],
   "source": [
    "inp = str_to_tensor(\"Albert\")\n",
    "out = rnn(inp)\n",
    "print(out)\n",
    "_, i = out.topk(1)\n",
    "print(dat.labels_uniq[i.item()])"
   ]
  },
  {
   "cell_type": "code",
   "execution_count": 11,
   "id": "5431465e",
   "metadata": {},
   "outputs": [
    {
     "name": "stderr",
     "output_type": "stream",
     "text": [
      "Epoch 30, loss: 0.2709: 100%|██████████| 30/30 [12:03<00:00, 24.10s/it]\n"
     ]
    }
   ],
   "source": [
    "import random\n",
    "import numpy as np\n",
    "from tqdm import trange\n",
    "\n",
    "nepochs = 30\n",
    "bs = 64\n",
    "loss_fn = nn.NLLLoss()\n",
    "curr_loss = 0.0\n",
    "all_losses = []\n",
    "rnn.train()\n",
    "opt = torch.optim.Adam(rnn.parameters(), lr=0.001)\n",
    "\n",
    "for epoch in (pbar := trange(1, nepochs+1)):\n",
    "    rnn.zero_grad()\n",
    "\n",
    "    batches = list(range(len(X_train)))\n",
    "    random.shuffle(batches)\n",
    "    batches = np.array_split(batches, len(batches) // bs)\n",
    "\n",
    "    for idx, batch in enumerate(batches):\n",
    "        batch_loss = 0.0\n",
    "        for i in batch:\n",
    "            label_tensor, text_tensor, label, text = X_train[i]\n",
    "            out = rnn(text_tensor)\n",
    "            loss = loss_fn(out, label_tensor)\n",
    "            batch_loss += loss\n",
    "        batch_loss.backward()\n",
    "        nn.utils.clip_grad_norm_(rnn.parameters(), 3)\n",
    "        opt.step()\n",
    "        opt.zero_grad()\n",
    "\n",
    "        curr_loss += batch_loss.item() / len(batch)\n",
    "\n",
    "    all_losses.append(curr_loss / len(batches))\n",
    "    pbar.set_description(f\"Epoch {epoch}, loss: {all_losses[-1]:.4f}\")\n",
    "    curr_loss = 0.0"
   ]
  },
  {
   "cell_type": "code",
   "execution_count": 12,
   "id": "072394a8",
   "metadata": {},
   "outputs": [
    {
     "data": {
      "image/png": "[encoded data removed]",
      "text/plain": [
       "<Figure size 640x480 with 1 Axes>"
      ]
     },
     "metadata": {},
     "output_type": "display_data"
    }
   ],
   "source": [
    "import matplotlib.pyplot as plt\n",
    "\n",
    "plt.plot(all_losses)\n",
    "plt.savefig(\"loss_LSTM.png\")"
   ]
  },
  {
   "cell_type": "code",
   "execution_count": 13,
   "id": "d9e3676c",
   "metadata": {},
   "outputs": [
    {
     "data": {
      "image/png": "[encoded data removed]",
      "text/plain": [
       "<Figure size 640x480 with 2 Axes>"
      ]
     },
     "metadata": {},
     "output_type": "display_data"
    }
   ],
   "source": [
    "import matplotlib.ticker as ticker\n",
    "\n",
    "\n",
    "confusion = torch.zeros(len(dat.labels_uniq), len(dat.labels_uniq), dtype=torch.float32)\n",
    "\n",
    "rnn.eval()\n",
    "with torch.no_grad():\n",
    "    for i in range(len(X_test)):\n",
    "        label_tensor, text_tensor, label, text = X_test[i]\n",
    "        out = rnn(text_tensor)\n",
    "        _, pred = out.topk(1)\n",
    "        confusion[label_tensor.item()][pred.item()] += 1\n",
    "\n",
    "for i in range(len(dat.labels_uniq)):\n",
    "    denom = confusion[i].sum()\n",
    "    if denom > 0:\n",
    "        confusion[i] = confusion[i] / denom\n",
    "\n",
    "fig = plt.figure()\n",
    "ax = fig.add_subplot(111)\n",
    "cax = ax.matshow(confusion.cpu().numpy())\n",
    "fig.colorbar(cax)\n",
    "\n",
    "ax.set_xticks(np.arange(len(dat.labels_uniq)), labels=dat.labels_uniq, rotation=90)\n",
    "ax.set_yticks(np.arange(len(dat.labels_uniq)), labels=dat.labels_uniq)\n",
    "\n",
    "ax.xaxis.set_major_locator(ticker.MultipleLocator(1))\n",
    "ax.yaxis.set_major_locator(ticker.MultipleLocator(1))\n",
    "\n",
    "plt.savefig(\"confusion_LSTM.png\", dpi=300, bbox_inches='tight')\n",
    "plt.show()"
   ]
  }
 ],
 "metadata": {
  "kernelspec": {
   "display_name": "venv",
   "language": "python",
   "name": "python3"
  },
  "language_info": {
   "codemirror_mode": {
    "name": "ipython",
    "version": 3
   },
   "file_extension": ".py",
   "mimetype": "text/x-python",
   "name": "python",
   "nbconvert_exporter": "python",
   "pygments_lexer": "ipython3",
   "version": "3.10.12"
  }
 },
 "nbformat": 4,
 "nbformat_minor": 5
}
