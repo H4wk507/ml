{
 "cells": [
  {
   "cell_type": "code",
   "execution_count": 1,
   "id": "deb706f8",
   "metadata": {},
   "outputs": [
    {
     "name": "stdout",
     "output_type": "stream",
     "text": [
      "2.7.1+cu126\n",
      "cuda:0\n"
     ]
    }
   ],
   "source": [
    "import torch\n",
    "print(torch.__version__)\n",
    "\n",
    "device = torch.device(\"cuda\" if torch.cuda.is_available() else \"cpu\")\n",
    "torch.set_default_device(device)\n",
    "print(torch.get_default_device())"
   ]
  },
  {
   "cell_type": "code",
   "execution_count": 2,
   "id": "7bd691ac",
   "metadata": {},
   "outputs": [
    {
     "name": "stdout",
     "output_type": "stream",
     "text": [
      "18 ['Portuguese', 'English', 'Korean', 'Italian', 'Scottish', 'Czech', 'Greek', 'German', 'Polish', 'Chinese', 'Spanish', 'Japanese', 'French', 'Irish', 'Russian', 'Dutch', 'Arabic', 'Vietnamese']\n"
     ]
    }
   ],
   "source": [
    "import glob\n",
    "import os\n",
    "import unicodedata\n",
    "import string\n",
    "\n",
    "all_letters = string.ascii_letters + \" .,;'-\"\n",
    "n_letters = len(all_letters)+1\n",
    "\n",
    "def unicode_to_ascii(s: str) -> str:\n",
    "    return ''.join(c for c in unicodedata.normalize('NFD', s)\n",
    "                   if unicodedata.category(c) != 'Mn' and c in all_letters)\n",
    "\n",
    "def read_lines(filename: str):\n",
    "    with open(filename, encoding='utf-8') as f:\n",
    "        return [unicode_to_ascii(line.strip()) for line in f]\n",
    "\n",
    "cateogry_lines = {}\n",
    "all_categories = []\n",
    "for filename in glob.glob(\"data/names/*.txt\"):\n",
    "    category = os.path.splitext(os.path.basename(filename))[0]\n",
    "    all_categories.append(category)\n",
    "    lines = read_lines(filename)\n",
    "    cateogry_lines[category] = lines\n",
    "\n",
    "n_categories = len(all_categories)\n",
    "\n",
    "print(n_categories, all_categories)"
   ]
  },
  {
   "cell_type": "code",
   "execution_count": 3,
   "id": "720fce7d",
   "metadata": {},
   "outputs": [],
   "source": [
    "import torch\n",
    "import torch.nn as nn\n",
    "import torch.nn.functional as F\n",
    "\n",
    "# LSTM from scratch, why not https://colah.github.io/posts/2015-08-Understanding-LSTMs/\n",
    "class LSTM(nn.Module):\n",
    "    def __init__(self, input_size: int, hidden_size: int, output_size: int):\n",
    "        super(LSTM, self).__init__()\n",
    "        self.forget = nn.Linear(n_categories + input_size + hidden_size, hidden_size)\n",
    "        self.input = nn.Linear(n_categories + input_size + hidden_size, hidden_size)\n",
    "        self.candidate = nn.Linear(n_categories + input_size + hidden_size, hidden_size)\n",
    "        self.output = nn.Linear(n_categories + input_size + hidden_size, hidden_size)\n",
    "        self.h2o = nn.Linear(hidden_size, output_size)\n",
    "        self.drop = nn.Dropout(0.1)\n",
    "        self.hidden_size = hidden_size\n",
    "\n",
    "    def forward(self, category, input, hidden, cell):\n",
    "        comb = torch.cat((category, input, hidden), 1)\n",
    "\n",
    "        forget_gate = F.sigmoid(self.forget(comb))\n",
    "        cell_state = forget_gate * cell\n",
    "\n",
    "        input_gate = F.sigmoid(self.input(comb))\n",
    "        candidate_cell = F.tanh(self.candidate(comb))\n",
    "\n",
    "        cell_state += input_gate * candidate_cell\n",
    "\n",
    "        output_gate = F.sigmoid(self.output(comb))\n",
    "        hidden_state = output_gate * F.tanh(cell_state)\n",
    "\n",
    "        output=self.drop(hidden_state)\n",
    "        output = self.h2o(output)\n",
    "        output = F.log_softmax(output, dim=1)\n",
    "\n",
    "        return output, hidden_state, cell_state\n",
    "\n",
    "\n",
    "\n",
    "class RNN(nn.Module):\n",
    "    def __init__(self, input_size: int, hidden_size: int, output_size: int):\n",
    "        super(RNN, self).__init__()\n",
    "        self.hidden_size = hidden_size\n",
    "\n",
    "        self.i2h = nn.Linear(n_categories + input_size + hidden_size, hidden_size)\n",
    "        self.i2o = nn.Linear(n_categories + input_size + hidden_size, output_size)\n",
    "        self.o2o = nn.Linear(hidden_size + output_size, output_size)\n",
    "        self.drop = nn.Dropout(0.1)\n",
    "        self.act = nn.LogSoftmax(dim=1)\n",
    "\n",
    "    def forward(self, category, input, hidden):\n",
    "        comb = torch.cat((category, input, hidden), 1)\n",
    "        hidden = self.i2h(comb)\n",
    "        output = self.i2o(comb)\n",
    "        output_comb = torch.cat((hidden, output), 1)\n",
    "        output = self.o2o(output_comb)\n",
    "        output = self.drop(output)\n",
    "        output = self.act(output)\n",
    "        return output, hidden\n"
   ]
  },
  {
   "cell_type": "code",
   "execution_count": 4,
   "id": "3be4ffa0",
   "metadata": {},
   "outputs": [],
   "source": [
    "import random\n",
    "\n",
    "def random_choice(l: list):\n",
    "    return l[random.randint(0, len(l) - 1)]\n",
    "\n",
    "def random_training_pair():\n",
    "    cat = random_choice(all_categories)\n",
    "    line = random_choice(cateogry_lines[cat])\n",
    "    return cat, line"
   ]
  },
  {
   "cell_type": "code",
   "execution_count": 5,
   "id": "f521c180",
   "metadata": {},
   "outputs": [],
   "source": [
    "def cat_tensor(cat: str) -> torch.Tensor:\n",
    "    idx = all_categories.index(cat)\n",
    "    t = torch.zeros(1, n_categories).to(device)\n",
    "    t[0][idx] = 1\n",
    "    return t\n",
    "\n",
    "def inp_tensor(line: str) -> torch.Tensor:\n",
    "    t = torch.zeros(len(line), 1, n_letters).to(device)\n",
    "    for idx, letter in enumerate(line):\n",
    "        letter_idx = all_letters.find(letter)\n",
    "        t[idx][0][letter_idx] = 1\n",
    "    return t\n",
    "\n",
    "def target_tensor(line: str) -> torch.Tensor:\n",
    "    letter_indices = [all_letters.find(line[idx]) for idx in range(1, len(line))]\n",
    "    letter_indices.append(n_letters - 1)\n",
    "    return torch.LongTensor(letter_indices).to(device)"
   ]
  },
  {
   "cell_type": "code",
   "execution_count": 6,
   "id": "9f0cef36",
   "metadata": {},
   "outputs": [],
   "source": [
    "def random_training_example():\n",
    "    cat, line = random_training_pair()\n",
    "    category_tensor = cat_tensor(cat)\n",
    "    input_line_tensor = inp_tensor(line)\n",
    "    target_line_tensor = target_tensor(line)\n",
    "    return category_tensor, input_line_tensor, target_line_tensor\n"
   ]
  },
  {
   "cell_type": "code",
   "execution_count": 7,
   "id": "674617b3",
   "metadata": {},
   "outputs": [
    {
     "name": "stderr",
     "output_type": "stream",
     "text": [
      "Epoch 100000, loss: 2.4755: 100%|██████████| 100000/100000 [21:38<00:00, 77.03it/s]\n"
     ]
    }
   ],
   "source": [
    "from tqdm import trange\n",
    "\n",
    "loss_fn = nn.NLLLoss()\n",
    "\n",
    "lr = 0.0005\n",
    "nepochs = 100000\n",
    "all_losses = []\n",
    "total_loss = 0\n",
    "\n",
    "rnn = LSTM(n_letters, 128, n_letters)\n",
    "\n",
    "for epoch in (pbar := trange(1, nepochs+1)):\n",
    "    category_tensor, input_line_tensor, target_line_tensor = random_training_example()\n",
    "    target_line_tensor = target_line_tensor.unsqueeze_(-1)\n",
    "    hidden = torch.zeros(1, rnn.hidden_size).to(device)\n",
    "    cell = torch.zeros(1, rnn.hidden_size).to(device)\n",
    "\n",
    "    rnn.zero_grad()\n",
    "    loss = 0.0\n",
    "\n",
    "    for i in range(input_line_tensor.size(0)):\n",
    "        out, hidden, cell = rnn(category_tensor, input_line_tensor[i], hidden, cell)\n",
    "        l = loss_fn(out, target_line_tensor[i])\n",
    "        loss += l\n",
    "\n",
    "    loss.backward()\n",
    "\n",
    "    for p in rnn.parameters():\n",
    "        p.data.add_(p.grad.data, alpha=-lr)\n",
    "\n",
    "    total_loss += loss.item() / input_line_tensor.size(0)\n",
    "    if epoch % 500 == 0:\n",
    "        all_losses.append(total_loss / 500)\n",
    "        total_loss = 0\n",
    "        pbar.set_description(f\"Epoch {epoch}, loss: {all_losses[-1]:.4f}\")\n"
   ]
  },
  {
   "cell_type": "code",
   "execution_count": 8,
   "id": "b80d285c",
   "metadata": {},
   "outputs": [
    {
     "data": {
      "text/plain": [
       "[<matplotlib.lines.Line2D at 0x742a5c9199c0>]"
      ]
     },
     "execution_count": 8,
     "metadata": {},
     "output_type": "execute_result"
    },
    {
     "data": {
      "image/png": "[encoded data removed]",
      "text/plain": [
       "<Figure size 640x480 with 1 Axes>"
      ]
     },
     "metadata": {},
     "output_type": "display_data"
    }
   ],
   "source": [
    "import matplotlib.pyplot as plt\n",
    "\n",
    "plt.plot(all_losses)"
   ]
  },
  {
   "cell_type": "code",
   "execution_count": 9,
   "id": "99ac6ac1",
   "metadata": {},
   "outputs": [],
   "source": [
    "torch.save(rnn.state_dict(), 'gen-lstm-2.pth')"
   ]
  },
  {
   "cell_type": "code",
   "execution_count": 24,
   "id": "a7ab0a54",
   "metadata": {},
   "outputs": [],
   "source": [
    "max_length = 20\n",
    "\n",
    "def sample(category: str, start_letter: str, temperature: float = 0.8):\n",
    "    with torch.no_grad():\n",
    "        category_tensor = cat_tensor(category)\n",
    "        inp = inp_tensor(start_letter)\n",
    "        hidden = torch.zeros(1, rnn.hidden_size).to(device)\n",
    "        cell = torch.zeros(1, rnn.hidden_size).to(device)\n",
    "\n",
    "        output_name = start_letter\n",
    "\n",
    "        for _ in range(max_length):\n",
    "            output, hidden, cell = rnn(category_tensor, inp[0], hidden, cell)\n",
    "\n",
    "            scaled_output = output / temperature\n",
    "            probs = torch.exp(scaled_output)\n",
    "\n",
    "            topi = torch.multinomial(probs, 1)[0][0]\n",
    "            if topi == n_letters - 1:\n",
    "                break\n",
    "            else:\n",
    "                letter = all_letters[topi]\n",
    "                output_name += letter\n",
    "            inp = inp_tensor(letter)\n",
    "\n",
    "        return output_name\n",
    "            \n",
    "\n",
    "def samples(category: str, start_letters: str, temperature: float = 0.5):\n",
    "    for start_letter in start_letters:\n",
    "        print(sample(category, start_letter, temperature))\n"
   ]
  },
  {
   "cell_type": "code",
   "execution_count": 26,
   "id": "7f6eeb15",
   "metadata": {},
   "outputs": [
    {
     "name": "stdout",
     "output_type": "stream",
     "text": [
      "Roelho\n",
      "Uaven\n",
      "Samon\n",
      "Gelalo\n",
      "Eser\n",
      "Raen\n",
      "Soagi\n",
      "Paees\n",
      "Aielil\n",
      "Can\n",
      "Hah\n",
      "Ion\n"
     ]
    }
   ],
   "source": [
    "samples('Russian', 'RUS')\n",
    "samples('German', 'GER')\n",
    "samples('Spanish', 'SPA')\n",
    "samples('Chinese', 'CHI')"
   ]
  }
 ],
 "metadata": {
  "kernelspec": {
   "display_name": "venv",
   "language": "python",
   "name": "python3"
  },
  "language_info": {
   "codemirror_mode": {
    "name": "ipython",
    "version": 3
   },
   "file_extension": ".py",
   "mimetype": "text/x-python",
   "name": "python",
   "nbconvert_exporter": "python",
   "pygments_lexer": "ipython3",
   "version": "3.10.12"
  }
 },
 "nbformat": 4,
 "nbformat_minor": 5
}
